{
  "nbformat": 4,
  "nbformat_minor": 0,
  "metadata": {
    "colab": {
      "private_outputs": true,
      "provenance": [],
      "authorship_tag": "ABX9TyPQbTBCtFdyhBv3kHQPaISd",
      "include_colab_link": true
    },
    "kernelspec": {
      "name": "python3",
      "display_name": "Python 3"
    },
    "language_info": {
      "name": "python"
    }
  },
  "cells": [
    {
      "cell_type": "markdown",
      "metadata": {
        "id": "view-in-github",
        "colab_type": "text"
      },
      "source": [
        "<a href=\"https://colab.research.google.com/github/Anello92/projetos/blob/main/price_elasticity.ipynb\" target=\"_parent\"><img src=\"https://colab.research.google.com/assets/colab-badge.svg\" alt=\"Open In Colab\"/></a>"
      ]
    },
    {
      "cell_type": "markdown",
      "source": [
        "# **Projeto de Elasticidade de Preços**\n",
        "\n",
        "A elasticidade de preços é um conceito fascinante e impactante no mundo dos negócios. Em termos simplificados, refere-se à relação entre a variação percentual da quantidade demandada de um produto e a variação percentual do seu preço. O entendimento dessa relação é crucial, pois permite que as empresas determinem até que ponto podem ajustar os preços de seus produtos sem afetar significativamente a demanda por eles.\n",
        "\n",
        "Neste projeto, nosso foco principal será entender como a variação no preço de um produto pode influenciar sua demanda. Isso é essencial, pois um aumento no preço pode levar a uma queda na demanda e, inversamente, uma diminuição no preço pode resultar em um aumento na demanda. Contudo, há limites para essas variações, e é preciso encontrar um ponto de equilíbrio.\n",
        "\n",
        "Utilizaremos técnicas estatísticas e de machine learning para investigar esta relação. O problema central que buscamos solucionar é: \"Como as alterações no preço dos produtos afetam a demanda e, consequentemente, o faturamento de um negócio?\". Para responder a essa questão, recorreremos à regressão linear, um método que, após nossa pesquisa e análise, mostrou-se o mais adequado para este estudo. É importante destacar que nossa abordagem não se restringe apenas a treinar um algoritmo, mas busca entender e explicar as relações entre as variáveis em estudo.\n",
        "\n",
        "A proposta é que, ao final deste projeto, sejamos capazes de:\n",
        "\n",
        "1. Compreender profundamente o conceito de elasticidade de preços e sua relevância no cenário empresarial.\n",
        "2. Aplicar técnicas de regressão para modelar a relação entre preço e demanda.\n",
        "3. Entender os coeficientes gerados pela regressão linear e interpretar sua influência no modelo.\n",
        "4. Fornecer insights valiosos para empresas que desejam alterar os preços de seus produtos, minimizando riscos e otimizando resultados.\n",
        "\n",
        "Em resumo, o objetivo central é capacitar os envolvidos no projeto a tomar decisões informadas sobre estratégias de precificação, fundamentadas em análises rigorosas e dados concretos. Esta é a essência da ciência de dados aplicada ao mundo empresarial: utilizar dados e métodos analíticos para solucionar problemas e melhorar processos.\n",
        "\n"
      ],
      "metadata": {
        "id": "s1CD6eLnlaQh"
      }
    },
    {
      "cell_type": "markdown",
      "source": [
        "---\n",
        "## **Objetivo Central**\n",
        "Entender como variações no preço de produtos influenciam a demanda e, por conseguinte, o faturamento das empresas. Para isso, utilizaremos métodos de regressão linear e técnicas de aprendizado de máquina.\n",
        "\n",
        "###  **Metodologia Principal**\n",
        "1. Coleta de dados históricos sobre preços, vendas e variáveis externas (como renda dos consumidores).\n",
        "2. Análise Exploratória de Dados para identificar padrões.\n",
        "3. Desenvolvimento e validação de modelos de aprendizado de máquina para descrição e previsão da relação preço-demanda.\n",
        "\n",
        "### **Entregáveis**\n",
        "- Modelo que capta a relação entre preço e demanda, incluindo a Curva e a Função de Demanda.\n",
        "- Ferramenta de simulação para cenários de mudança de preço.\n",
        "- Insights acionáveis para decisões de precificação.\n",
        "\n",
        "### **Relevância**\n",
        "O projeto visa tornar o complexo tema da elasticidade de preços acessível e útil, fornecendo insights baseados em dados para acadêmicos e decisores empresariais. O objetivo é aprimorar as estratégias de precificação com base em análises rigorosas, minimizando riscos e otimizando resultados."
      ],
      "metadata": {
        "id": "0zOBxjniubGn"
      }
    },
    {
      "cell_type": "markdown",
      "source": [
        "---\n",
        "## **Conceitos**\n",
        "\n",
        "### **Relação entre Preço e Damanda**\n",
        "Quando falamos de comprar e vender coisas, dois fatores são muito importantes: o preço e a quantidade que as pessoas querem comprar, conhecida como `demanda`. Na maioria dos casos, se o preço de algo sobe, menos pessoas vão querer comprar; se o preço desce, mais pessoas estarão interessadas. Essa é a chamada `lei da demanda`.\n",
        "\n",
        "Imagine essa relação como um gráfico: se você colocar o preço no eixo vertical e a quantidade que as pessoas querem comprar no eixo horizontal, você terá algo que chamamos de `curva de demanda`. Essa curva geralmente inclina para baixo, mostrando que quando o preço diminui, mais pessoas querem comprar o produto.\n",
        "\n",
        "Mas atenção, o preço não é o único fator que afeta a demanda. Outras coisas como o **dinheiro disponível** das pessoas, o **preço de produtos similares** ou **complementares**, e até mesmo o **gosto pessoal**, também entram na jogada. Por isso, usamos algo chamado `função de demanda` para prever com mais precisão quantas unidades de um produto serão vendidas se considerarmos todas essas variáveis juntas."
      ],
      "metadata": {
        "id": "HgUJhhunwrw6"
      }
    },
    {
      "cell_type": "markdown",
      "source": [
        "---\n",
        "### **Função de Demanda: Uma Explicação Fácil**\n",
        "\n",
        "Imagine que você quer saber quanto de um produto as pessoas vão comprar considerando vários fatores como preço, salário e até mesmo gostos pessoais. A `função de demanda` é como uma fórmula que nos ajuda a entender isso.\n",
        "\n",
        "Nessa fórmula, usamos letras para representar esses fatores:\n",
        "\n",
        "### `Q = f(P, Y, Ps, Pc, T)`\n",
        "\n",
        "Essa fórmula ajuda empresas e pesquisadores a entender como diferentes fatores afetam a vontade das pessoas de comprar um produto.\n",
        "- `Q` é a quantidade que as pessoas querem comprar.\n",
        "- `P` é o preço do produto.\n",
        "- `Y` é quanto dinheiro as pessoas têm.\n",
        "- `Ps` é o preço de produtos parecidos.\n",
        "- `Pc` é o preço de produtos que geralmente são comprados juntos com este.\n",
        "- `T` representa outros fatores como gostos pessoais.\n",
        "\n",
        "Então, se o preço `(P)` sobe, geralmente menos pessoas vão querer comprar `(Q diminui)`. Se as pessoas estão ganhando mais dinheiro `(Y aumenta)`, provavelmente vão comprar mais do produto `(Q aumenta)`.\n",
        "\n",
        "O bacana dessa fórmula é que ela ajuda as empresas a entenderem o que pode acontecer se elas mudarem o preço ou outras coisas. Assim, elas podem decidir a melhor forma de vender mais e ganhar mais dinheiro, atendendo também ao que os consumidores querem ou precisam."
      ],
      "metadata": {
        "id": "a1rh0l-pyVM3"
      }
    },
    {
      "cell_type": "markdown",
      "source": [
        "---\n",
        "### **Elasticidade de Preço**\n",
        "A elasticidade de preço nos diz o quanto a venda de um produto muda quando seu preço sobe ou desce. Por exemplo, se o preço de um item aumenta, geralmente menos pessoas vão comprá-lo.\n",
        "\n",
        "Se a elasticidade é `elástica`, uma pequena mudança no preço faz uma grande diferença nas vendas. Se é `inelástica`, a mudança nas vendas é pequena, mesmo com variação no preço.\n",
        "\n",
        "Há também a elasticidade `unitária`, onde a mudança percentual no preço e na demanda são iguais. Isso ajuda empresas a decidir se vale a pena alterar o preço de um produto."
      ],
      "metadata": {
        "id": "2I1IBopgzuVj"
      }
    },
    {
      "cell_type": "markdown",
      "source": [
        "---\n",
        "### **Elasticidade de Preço Elástica**\n",
        "Se um produto tem `elasticidade de preço elástica`, isso significa que as vendas desse item são muito sensíveis a qualquer mudança no preço. Em termos simples, **se o preço sobe um pouco, as vendas caem muito**, e vice-versa. Isso acontece porque as pessoas têm outras **opções parecidas e mais baratas para escolher**. Então, se o preço sobe, elas rapidamente trocam por algo mais em conta. O número que indica isso é maior que 1 na matemática da elasticidade. Por exemplo, **se o preço sobe 10% e as vendas caem mais de 60%**, essa elasticidade é considerada `elástica`."
      ],
      "metadata": {
        "id": "3dA3H87t0NZE"
      }
    },
    {
      "cell_type": "markdown",
      "source": [
        "---\n",
        "### **Elasticidade de Preço Inelástica**\n",
        "Se um produto tem `elasticidade de preço inelástica`, significa que as vendas desse item não são muito afetadas se o preço muda. Ou seja, você pode **aumentar um pouco o preço e as pessoas continuarão comprando praticamente a mesma quantidade**. Isso geralmente acontece **quando não há muitas outras opções de produtos similares ou quando as pessoas realmente precisam daquele item e não podem substituí-lo facilmente**. Na matemática da elasticidade, o número que indica isso é menor que 1. Por exemplo, se o **preço sobe 10% e as vendas caem menos de 1,5%, o produto é considerado `inelástico`**. Ou seja, as pessoas vão continuar comprando mesmo que fique um pouco mais caro."
      ],
      "metadata": {
        "id": "ah4a-l070urj"
      }
    },
    {
      "cell_type": "markdown",
      "source": [
        "---\n",
        "### **Elasticidade de Preço Unitária**\n",
        "Se um produto tem `elasticidade de preço unitária`, significa que qualquer mudança no preço é igualada por uma mudança igual na quantidade vendida. Em outras palavras, **se o preço sobe 10%, as vendas também caem 10%**. Isso geralmente ocorre quando **existem algumas alternativas ao produto, mas as pessoas não são tão rápidas em mudar**. Na matemática da coisa, o número que nos diz isso é exatamente 1. Isso quer dizer que **as pessoas notam se o preço muda, mas não vão abandonar o produto completamente** se ele ficar um pouco mais caro ou mais barato."
      ],
      "metadata": {
        "id": "JFut-gbK1Ko2"
      }
    },
    {
      "cell_type": "markdown",
      "source": [
        "---\n",
        "### **Elasticidade de Preço Negativa**\n",
        "Se falamos de `elasticidade de preços negativa`, estamos dizendo que as pessoas não mudam muito suas compras mesmo quando o preço muda. Em termos simples, **se o preço sobe ou desce, as pessoas quase não alteram a quantidade que compram**. Esse número negativo é uma forma técnica de mostrar que **a demanda pelo produto é meio \"teimosa\"**; ela não se abala facilmente com mudanças no preço."
      ],
      "metadata": {
        "id": "OszO2Rk91vZ3"
      }
    },
    {
      "cell_type": "markdown",
      "source": [
        "---\n",
        "### **Interpretação Empresarial**\n",
        "Para empresas, entender como o preço afeta as vendas é crucial:\n",
        "\n",
        "1. `Elasticidade de preço unitária`: Quando o preço muda, as vendas mudam na mesma proporção. Então, a empresa precisa ser cautelosa ao mudar preços para não perder dinheiro ou clientes.\n",
        "\n",
        "2. `Elasticidade de preço inelástica`: Aqui, a empresa tem liberdade para aumentar o preço um pouco, sem que as vendas caiam muito. Isso é bom para aumentar lucros.\n",
        "\n",
        "3. `Elasticidade de preço elástica`: Nesse caso, qualquer alteração no preço pode fazer as vendas subirem ou caírem bastante. É um terreno perigoso para mexer nos preços.\n",
        "\n",
        "4. `Elasticidade de preços negativa`: Nesse caso, as mudanças de preço não afetam muito as vendas. Pode ser um sinal de que o produto é essencial para os consumidores ou que não há alternativas no mercado.\n",
        "\n",
        "Então, conhecer o tipo de elasticidade ajuda a empresa a decidir se pode aumentar o preço, se deve baixar ou mantê-lo, e como isso vai afetar suas vendas e lucros. É como um termômetro para estratégias de preço e marketing."
      ],
      "metadata": {
        "id": "bS46XAFG3pOs"
      }
    },
    {
      "cell_type": "markdown",
      "source": [
        "---\n",
        "### **Método do Ponto Médio**\n",
        "Claro, vou tentar simplificar ainda mais:\n",
        "\n",
        "Pense no método do ponto médio como um jeito de tirar uma \"foto\" do que acontece quando você muda o preço de algo que está vendendo. Mas essa \"foto\" pode mudar dependendo de onde você começa: do preço mais baixo para o mais alto ou vice-versa.\n",
        "\n",
        "Vamos usar um exemplo prático: você vende copos e decidiu aumentar o preço de 5 para 6 reais. Antes, você vendia 100 copos, e agora vende 80.\n",
        "\n",
        "1. Primeiro, achamos uma média de vendas: entre 100 e 80 copos, a média é 90 copos.\n",
        "2. Depois, achamos uma média de preço: entre 5 e 6 reais, a média é 5,50 reais.\n",
        "\n",
        "Agora olhamos para as mudanças:\n",
        "\n",
        "- Você estava vendendo 90 copos (na média) e caiu para 80: uma queda de 10 copos.\n",
        "- O preço era 5,50 (na média) e subiu para 6: um aumento de 50 centavos.\n",
        "\n",
        "O que isso nos diz? Que as pessoas realmente se importam com o preço dos seus copos! Quando você aumentou o preço em apenas 50 centavos, 10 pessoas decidiram não comprar.\n",
        "\n",
        "Isso mostra que a demanda pelos seus copos é sensível ao preço. Então, da próxima vez que pensar em mudar o preço, lembre-se de que até pequenas mudanças podem fazer uma grande diferença nas suas vendas."
      ],
      "metadata": {
        "id": "76tT_pDh4MPY"
      }
    },
    {
      "cell_type": "markdown",
      "source": [
        "---\n",
        "### **Interpretação do Resultado Matemático da Elasticidade de Preços**\n",
        "Entender a elasticidade do preço é como saber o \"termômetro\" das vendas. Se você mexe no preço, ela te diz quanto suas vendas vão subir ou cair.\n",
        "\n",
        "- Se a elasticidade é alta `(acima de 1)`, cuidado ao aumentar o preço, pois as vendas podem cair bastante. Por exemplo, com elasticidade de 15, se você aumentar o preço em 1%, pode esperar que as vendas caiam 15%.\n",
        "\n",
        "- Se a elasticidade é baixa `(abaixo de 1)`, você tem mais liberdade para aumentar o preço sem perder muitas vendas. Com elasticidade de 0,15, se o preço sobe 1%, as vendas só caem 0,15%.\n",
        "\n",
        "- Com `elasticidade igual a 1`, qualquer mudança no preço resulta numa mudança igual nas vendas. Se o preço sobe 1%, as vendas caem 1%.\n",
        "\n",
        "Então, para resumir: Produtos com alta elasticidade podem ganhar mais clientes se ficarem mais baratos. Produtos com baixa elasticidade permitem que você aumente o preço sem perder muitas vendas."
      ],
      "metadata": {
        "id": "zguZFxu748LU"
      }
    },
    {
      "cell_type": "code",
      "execution_count": null,
      "metadata": {
        "id": "uM0RbpvVlZnU"
      },
      "outputs": [],
      "source": []
    }
  ]
}